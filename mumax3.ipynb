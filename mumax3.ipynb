{
  "nbformat": 4,
  "nbformat_minor": 0,
  "metadata": {
    "colab": {
      "name": "mumax3.ipynb",
      "provenance": [],
      "include_colab_link": true
    },
    "kernelspec": {
      "name": "python3",
      "display_name": "Python 3"
    },
    "accelerator": "GPU"
  },
  "cells": [
    {
      "cell_type": "markdown",
      "metadata": {
        "id": "view-in-github",
        "colab_type": "text"
      },
      "source": [
        "<a href=\"https://colab.research.google.com/github/SXRXSHARK/Valentines/blob/main/mumax3.ipynb\" target=\"_parent\"><img src=\"https://colab.research.google.com/assets/colab-badge.svg\" alt=\"Open In Colab\"/></a>"
      ]
    },
    {
      "cell_type": "markdown",
      "metadata": {
        "id": "YKnOM0Rd_WpW"
      },
      "source": [
        "# **Mumax3 in google colaboratory**"
      ]
    },
    {
      "cell_type": "markdown",
      "metadata": {
        "id": "7z-jkukmWz2a"
      },
      "source": [
        "# About Google colaboratory"
      ]
    },
    {
      "cell_type": "markdown",
      "metadata": {
        "id": "y2SER9qhXpjG"
      },
      "source": [
        "Google colaboratory is a research tool mainly used by researchers in the field of machine learning. The main purpose of this tool is to run python code in jupyter notebooks. These notebooks run on a virtual linux machine private to your gmail account. This means that you will need a gmail account to execute programs in a google colaboratory session. If you have a gmail account you should be able to copy this jupyter notebook to your google drive and execute the code cells.\n",
        "\n",
        "To run mumax3 simulations, you do not need to write any python code. So you might wonder how we can use this jupyter notebook environment to run mumax3 simulations. The trick here is that you can execute shell commands by typing an exclamation mark followed by the command, as shown in the code cell below. If you run this code cell, the shell will print out the operating system of the virtual machine. Having the ability to run shell commands suffices to install and run mumax3 simulations, as demonstrated in the sections below."
      ]
    },
    {
      "cell_type": "code",
      "metadata": {
        "id": "W-P7fobTQgRT"
      },
      "source": [
        "! echo \"This machine runs\" $(uname)"
      ],
      "execution_count": null,
      "outputs": []
    },
    {
      "cell_type": "markdown",
      "metadata": {
        "id": "sx20qbQJGQNI"
      },
      "source": [
        "# Installing mumax3"
      ]
    },
    {
      "cell_type": "markdown",
      "metadata": {
        "id": "mxByDMk_XUvM"
      },
      "source": [
        "To install mumax3.10 on this virtual machine, you can run the cell below. This might take a few minutes. When the installation is done, you can collapse this section to get a clean workspace."
      ]
    },
    {
      "cell_type": "code",
      "metadata": {
        "id": "DcUZU5vv_TIf"
      },
      "source": [
        "# Download the mumax3 binary\n",
        "!wget https://mumax.ugent.be/mumax3-binaries/mumax3.10_linux_cuda10.1.tar.gz\n",
        "!tar -xvf mumax3.10_linux_cuda10.1.tar.gz\n",
        "!rm mumax3.10_linux_cuda10.1.tar.gz\n",
        "!rm -rf mumax3.10 && mv mumax3.10_linux_cuda10.1 mumax3.10\n",
        "\n",
        "#update the PATH environment variable\n",
        "import os\n",
        "os.environ['PATH'] += \":/content/mumax3.10\"\n",
        "\n",
        "# Download an examplary script\n",
        "!wget https://raw.githubusercontent.com/JeroenMulkers/mumax3-tutorial/master/standardproblem4.mx3 -O standardproblem4.mx3"
      ],
      "execution_count": null,
      "outputs": []
    },
    {
      "cell_type": "markdown",
      "metadata": {
        "id": "sQhUZQFMBKYY"
      },
      "source": [
        "# Running a mumax3 script"
      ]
    },
    {
      "cell_type": "markdown",
      "metadata": {
        "id": "z4DdTSKVXzmP"
      },
      "source": [
        "You can open the filebrowser for this virtual machine on the left side of this page. Here you should see a mumax3 script named standardproblem4.mx3. You should be able to open this file with a double click. To execute the script run the code cell below."
      ]
    },
    {
      "cell_type": "code",
      "metadata": {
        "id": "9g4lmjd7BXGV",
        "colab": {
          "base_uri": "https://localhost:8080/"
        },
        "outputId": "c580b2e9-fb39-4e18-b5b3-863c3864b781"
      },
      "source": [
        "!mumax3 standardproblem4.mx3"
      ],
      "execution_count": 29,
      "outputs": [
        {
          "output_type": "stream",
          "name": "stdout",
          "text": [
            "//mumax 3.10 [linux_amd64 go1.14(gc) CUDA-10.1]\n",
            "//GPU info: Tesla T4(15095MB), CUDA Driver 12.4, cc=7.5, using cc=75 PTX\n",
            "//(c) Arne Vansteenkiste, Dynamat LAB, Ghent University, Belgium\n",
            "//This is free software without any warranty. See license.txt\n",
            "//********************************************************************//\n",
            "//  If you use mumax in any work or publication,                      //\n",
            "//  we kindly ask you to cite the references in references.bib        //\n",
            "//********************************************************************//\n",
            "//output directory: standardproblem4.out/\n",
            "//starting GUI at http://127.0.0.1:35367\n",
            "setGridsize(128, 32, 1)\n",
            "setCellsize(2e-9, 2e-9, 1e-9)\n",
            "setPBC(0, 0, 0)\n",
            "//resizing...\n",
            "// Initializing geometry 3 %\n",
            "// Initializing geometry 100 %\n",
            "Msat = 580e3\n",
            "Aex = 15e-12\n",
            "Dind = 3.0e-3\n",
            "Ku1 = 0.8e6\n",
            "anisU = vector(0, 0, 1)\n",
            "alpha = 0.3\n",
            "m = uniform(0, 0, 1)\n",
            "defRegion(1, circle(10e-9).transl(64e-9, 16e-9, 0))\n",
            "J = vector(0, 0, 0)\n",
            "Pol = 0.4\n",
            "xi = 0.0\n",
            "J.setRegion(1, vector(0, 0, -9e12))\n",
            "run(100e-12)\n",
            "//Did not use cached kernel: open /tmp/mumax3kernel_[128 32 1]_[0 0 0]_[2e-09 2e-09 1e-09]_6_0 0.ovf: no such file or directory\n",
            "//Cached kernel: /tmp/mumax3kernel_[128 32 1]_[0 0 0]_[2e-09 2e-09 1e-09]_6_\n",
            "J.setRegion(1, vector(0, 0, 0))\n",
            "run(100e-12)\n",
            "J = vector(-1e12, 0, 0)\n",
            "run(5e-9)\n",
            "tableAdd(ext_bubblepos)\n",
            "autosave(m, 5e-9)\n",
            "tableAutosave(1e-10)\n",
            "//********************************************************************//\n",
            "//Please cite the following references, relevant for your simulation. //\n",
            "//See bibtex file in output folder for justification.                 //\n",
            "//********************************************************************//\n",
            "//   * Mulkers et al., Phys. Rev. B 95, 144401 (2017).\n",
            "//   * Vansteenkiste et al., AIP Adv. 4, 107133 (2014).\n"
          ]
        }
      ]
    },
    {
      "cell_type": "markdown",
      "metadata": {
        "id": "_l3NeuoFaYuk"
      },
      "source": [
        "If you ran the cell above, then there should be a directory named standardproblem4.out (you might need to click on the refresh button in the filebrowser). This directory contains the output files of the simulation. mumax3-convert can now be used to convert the ovf files to images, as demonstrated in the cell below."
      ]
    },
    {
      "cell_type": "code",
      "metadata": {
        "id": "pmuXIuVRbHaY",
        "colab": {
          "base_uri": "https://localhost:8080/"
        },
        "outputId": "b369ff58-70cd-48de-9020-6fab36c60fd7"
      },
      "source": [
        "!mumax3-convert -png standardproblem4.out/*.ovf"
      ],
      "execution_count": 31,
      "outputs": [
        {
          "output_type": "stream",
          "name": "stdout",
          "text": [
            "standardproblem4.out/m000000.ovf\n",
            "standardproblem4.out/m000001.ovf\n",
            "standardproblem4.out/m000002.ovf\n",
            "standardproblem4.out/m000003.ovf\n",
            "standardproblem4.out/m000004.ovf\n",
            "standardproblem4.out/m000005.ovf\n",
            "standardproblem4.out/m000006.ovf\n",
            "[skip] standardproblem4.out/m000000.ovf\t-> standardproblem4.out/m000000.png: skipped based on time stamps\n",
            "[skip] standardproblem4.out/m000001.ovf\t-> standardproblem4.out/m000001.png: skipped based on time stamps\n",
            "[skip] standardproblem4.out/m000002.ovf\t-> standardproblem4.out/m000002.png: skipped based on time stamps\n",
            "[skip] standardproblem4.out/m000003.ovf\t-> standardproblem4.out/m000003.png: skipped based on time stamps\n",
            "[skip] standardproblem4.out/m000004.ovf\t-> standardproblem4.out/m000004.png: skipped based on time stamps\n",
            "[skip] standardproblem4.out/m000005.ovf\t-> standardproblem4.out/m000005.png: skipped based on time stamps\n",
            "[skip] standardproblem4.out/m000006.ovf\t-> standardproblem4.out/m000006.png: skipped based on time stamps\n",
            "0 files converted,  7 skipped,  0 failed\n"
          ]
        }
      ]
    },
    {
      "cell_type": "markdown",
      "metadata": {
        "id": "BtIafNN4bs5e"
      },
      "source": [
        "Now it's up to you. Right click on the filebrowser to add a new file. Open the file and write your first mumax3 script. Run this script as demonstrated above."
      ]
    },
    {
      "cell_type": "code",
      "source": [
        "import pandas as pd\n",
        "import matplotlib.pyplot as plt\n",
        "\n",
        "# Replace 'table.txt' with your MuMax3 table filename\n",
        "filename = 'table.txt'\n",
        "\n",
        "# Load the MuMax3 table file (space or tab-separated)\n",
        "df = pd.read_csv('standardproblem4.out/table.txt', delim_whitespace=True)\n",
        "\n",
        "# Save as Excel file\n",
        "excel_filename = 'table.xlsx'\n",
        "df.to_excel(excel_filename, index=False)\n",
        "\n",
        "print(f\"Converted '{filename}' to '{excel_filename}'\")\n"
      ],
      "metadata": {
        "colab": {
          "base_uri": "https://localhost:8080/"
        },
        "id": "gIrJBZiERX_E",
        "outputId": "c3c397c0-4ae0-4dbd-cd0e-d57dc37733b3"
      },
      "execution_count": 39,
      "outputs": [
        {
          "output_type": "stream",
          "name": "stdout",
          "text": [
            "Converted 'table.txt' to 'table.xlsx'\n"
          ]
        },
        {
          "output_type": "stream",
          "name": "stderr",
          "text": [
            "/tmp/ipython-input-39-4226120469.py:8: FutureWarning: The 'delim_whitespace' keyword in pd.read_csv is deprecated and will be removed in a future version. Use ``sep='\\s+'`` instead\n",
            "  df = pd.read_csv('standardproblem4.out/table.txt', delim_whitespace=True)\n"
          ]
        }
      ]
    },
    {
      "cell_type": "code",
      "source": [
        "import pandas as pd\n",
        "import matplotlib.pyplot as plt\n",
        "\n",
        "# Load data\n",
        "filename = 'table.txt'\n",
        "# Load the MuMax3 table file, skipping initial lines and providing column names\n",
        "# Assuming the first column is time and the third column is 'mz ()' based on MuMax3 output format\n",
        "df = pd.read_csv('standardproblem4.out/table.txt', skiprows=6, sep='\\t', names=['t (s)', 'mx ()', 'my ()', 'mz ()', 'm_x ()', 'm_y ()', 'm_z ()', 'ext_bubblepos ()', 'ext_bubblepos (m)'])\n",
        "\n",
        "\n",
        "# For example: plot mz (magnetization z-component) vs time\n",
        "plt.figure(figsize=(8,5))\n",
        "plt.plot(df['t (s)'], df['mz ()'], marker='o', linestyle='-')\n",
        "\n",
        "plt.xlabel('Time (s)')\n",
        "plt.ylabel('Magnetization $m_z$ (normalized)')\n",
        "plt.title('Magnetization $m_z$ vs Time')\n",
        "plt.ylim(-1.1, 1.1)  # limits for clarity\n",
        "plt.grid(True)\n",
        "\n",
        "# Add explanation text on plot\n",
        "plt.text(0.5*df['t (s)'].max(), 0.8,\n",
        "         'mz=1 means magnetization points up\\nmz=-1 means magnetization points down',\n",
        "         fontsize=10, bbox=dict(facecolor='white', alpha=0.7))\n",
        "\n",
        "plt.savefig('magnetization_z_vs_time.png')\n",
        "plt.show()"
      ],
      "metadata": {
        "colab": {
          "base_uri": "https://localhost:8080/",
          "height": 489
        },
        "id": "KoRKnajLRv1k",
        "outputId": "102c99ca-819c-4172-df34-dbbd6a2294b1"
      },
      "execution_count": 40,
      "outputs": [
        {
          "output_type": "display_data",
          "data": {
            "text/plain": [
              "<Figure size 800x500 with 1 Axes>"
            ],
            "image/png": "[encoded data removed]"
          },
          "metadata": {}
        }
      ]
    },
    {
      "cell_type": "code",
      "metadata": {
        "id": "f434352b"
      },
      "source": [
        "# Save the mumax3 script to a file\n",
        "script_content = \"\"\"\n",
        "// Inputs A=0, B=0\n",
        "Msat = 580e3\n",
        "Aex = 15e-12\n",
        "Dind = 3.0e-3\n",
        "Ku1 = 0.7e6\n",
        "anisU = vector(0, 0, 1)\n",
        "alpha = 0.3\n",
        "\n",
        "SetGridSize(16, 16, 1)\n",
        "SetCellSize(2e-9, 2e-9, 1e-9)\n",
        "setPBC(0, 0, 0)\n",
        "defRegion(1, Rect(32e-9, 32e-9))\n",
        "\n",
        "m = uniform(0, 0, -1)\n",
        "\n",
        "Pol = 0.4\n",
        "xi = 0.0\n",
        "\n",
        "J.setRegion(1, vector(0, 0, 0))\n",
        "tableAutosave(1e-9)\n",
        "\n",
        "Run(5e-9)\n",
        "\n",
        "tableSave()\n",
        "autosave(m, 5e-9)\n",
        "\"\"\"\n",
        "\n",
        "with open(\"tunnel_barrier.mx3\", \"w\") as f:\n",
        "    f.write(script_content)\n"
      ],
      "execution_count": 106,
      "outputs": []
    },
    {
      "cell_type": "code",
      "metadata": {
        "colab": {
          "base_uri": "https://localhost:8080/"
        },
        "id": "86a8d03c",
        "outputId": "0076bb54-3981-46e8-a9cf-95cf38a38611"
      },
      "source": [
        "# Execute the mumax3 script again\n",
        "!mumax3 tunnel_barrier.mx3"
      ],
      "execution_count": 104,
      "outputs": [
        {
          "output_type": "stream",
          "name": "stdout",
          "text": [
            "//mumax 3.10 [linux_amd64 go1.14(gc) CUDA-10.1]\n",
            "//GPU info: Tesla T4(15095MB), CUDA Driver 12.4, cc=7.5, using cc=75 PTX\n",
            "//(c) Arne Vansteenkiste, Dynamat LAB, Ghent University, Belgium\n",
            "//This is free software without any warranty. See license.txt\n",
            "//********************************************************************//\n",
            "//  If you use mumax in any work or publication,                      //\n",
            "//  we kindly ask you to cite the references in references.bib        //\n",
            "//********************************************************************//\n",
            "//output directory: tunnel_barrier.out/\n",
            "//starting GUI at http://127.0.0.1:35367\n",
            "Msat = 580e3\n",
            "Aex = 15e-12\n",
            "Dind = 3.0e-3\n",
            "Ku1 = 0.7e6\n",
            "anisU = vector(0, 0, 1)\n",
            "alpha = 0.3\n",
            "SetGridSize(16, 16, 1)\n",
            "SetCellSize(2e-9, 2e-9, 1e-9)\n",
            "setPBC(0, 0, 0)\n",
            "//resizing...\n",
            "// Initializing geometry 6 %\n",
            "// Initializing geometry 100 %\n",
            "defRegion(1, Rect(32e-9, 32e-9))\n",
            "m = uniform(0, 0, -1)\n",
            "Pol = 0.4\n",
            "xi = 0.0\n",
            "J.setRegion(1, vector(0, 0, 0))\n",
            "tableAutosave(5e-9)\n",
            "Run(5e-9)\n",
            "//Using cached kernel: /tmp/mumax3kernel_[16 16 1]_[0 0 0]_[2e-09 2e-09 1e-09]_6_\n",
            "tableSave()\n",
            "autosave(m, 5e-9)\n",
            "//********************************************************************//\n",
            "//Please cite the following references, relevant for your simulation. //\n",
            "//See bibtex file in output folder for justification.                 //\n",
            "//********************************************************************//\n",
            "//   * Mulkers et al., Phys. Rev. B 95, 144401 (2017).\n",
            "//   * Vansteenkiste et al., AIP Adv. 4, 107133 (2014).\n"
          ]
        }
      ]
    },
    {
      "cell_type": "code",
      "source": [
        "!mumax3-convert -png tunner_barrier.out/*.ovf"
      ],
      "metadata": {
        "id": "JtGgVOljclnh",
        "outputId": "aaaa2679-f5a7-4771-f62b-b2677c72cf0a",
        "colab": {
          "base_uri": "https://localhost:8080/"
        }
      },
      "execution_count": 105,
      "outputs": [
        {
          "output_type": "stream",
          "name": "stdout",
          "text": [
            "tunner_barrier.out/*.ovf\n",
            "0 files converted,  0 skipped,  0 failed\n"
          ]
        }
      ]
    },
    {
      "cell_type": "code",
      "source": [
        "import numpy as np\n",
        "import matplotlib.pyplot as plt\n",
        "\n",
        "# Load Mumax3 table data (skip header lines starting with #)\n",
        "data = np.loadtxt('tunnel_barrier.out/table.txt', comments='#')\n",
        "\n",
        "time = data[:,0]   # first column is time (s)\n",
        "mz = data[:,1]     # second column is average(mz)\n",
        "\n",
        "plt.plot(time * 1e9, mz)  # time in ns\n",
        "plt.xlabel('Time (ns)')\n",
        "plt.ylabel('Average m_z')\n",
        "plt.title('Average magnetization z-component vs time')\n",
        "plt.grid(True)\n",
        "plt.show()\n"
      ],
      "metadata": {
        "id": "PwsM45fdgDR4",
        "outputId": "6b56f14a-9cd7-45e9-b536-b388170e9051",
        "colab": {
          "base_uri": "https://localhost:8080/",
          "height": 472
        }
      },
      "execution_count": 107,
      "outputs": [
        {
          "output_type": "display_data",
          "data": {
            "text/plain": [
              "<Figure size 640x480 with 1 Axes>"
            ],
            "image/png": "[encoded data removed]"
          },
          "metadata": {}
        }
      ]
    },
    {
      "cell_type": "code",
      "source": [
        "# Save the mumax3 script to a file\n",
        "script_content = \"\"\"\n",
        "\n",
        "// MuMax3 script: Skyrmion detection in MTJ readout\n",
        "// Basic example with skyrmion initialization and detection\n",
        "\n",
        "// Parameters\n",
        "Msat = 580e3            // Saturation magnetization (A/m)\n",
        "Aex = 15e-12            // Exchange stiffness (J/m)\n",
        "alpha = 0.3             // Gilbert damping\n",
        "Ku1 = 0.7e6             // Uniaxial anisotropy constant\n",
        "anisU = vector(0, 0, 1) // Anisotropy axis (out-of-plane)\n",
        "\n",
        "// Grid and cell size\n",
        "Nx := 128\n",
        "Ny := 128\n",
        "Nz := 1\n",
        "SetGridSize(Nx, Ny, Nz)\n",
        "SetCellSize(1e-9, 1e-9, 1e-9)\n",
        "\n",
        "// Skyrmion radius (approx)\n",
        "r_sk := 20e-9\n",
        "\n",
        "// Initialize skyrmion magnetization profile\n",
        "m = uniform(0, 0, 1) // Start with uniform up\n",
        "\n",
        "for x := 0; x < Nx; x++ {\n",
        "    for y := 0; y < Ny; y++ {\n",
        "        dx := float64(x - Nx/2) * CellSizeX\n",
        "        dy := float64(y - Ny/2) * CellSizeY\n",
        "        r := sqrt(dx*dx + dy*dy)\n",
        "        if r < r_sk {\n",
        "            theta := pi * (r / r_sk) // theta varies from 0 to pi over radius\n",
        "            phi := atan2(dy, dx)\n",
        "            mx := sin(theta) * cos(phi)\n",
        "            my := sin(theta) * sin(phi)\n",
        "            mz := cos(theta)\n",
        "            m.set(x, y, 0, vector(float32(mx), float32(my), float32(mz)))\n",
        "        }\n",
        "    }\n",
        "}\n",
        "\n",
        "// Relax to stable state\n",
        "Minimize()\n",
        "\n",
        "// Table outputs\n",
        "tableAdd(time)\n",
        "tableAdd(average(m).z)       // average magnetization z component\n",
        "tableAdd(SkyrmionNumber())   // topological charge for skyrmion detection\n",
        "\n",
        "tableAutosave(1e-9)          // save table every 1 ns\n",
        "\n",
        "// Run simulation for 10 ns (readout process)\n",
        "Run(10e-9)\n",
        "\"\"\"\n",
        "with open(\"read.mx3\", \"w\") as f:\n",
        "    f.write(script_content)\n",
        "\n"
      ],
      "metadata": {
        "id": "d2Hje2OXgnFp"
      },
      "execution_count": 108,
      "outputs": []
    },
    {
      "cell_type": "code",
      "source": [
        "!mumax3 read.mx3"
      ],
      "metadata": {
        "id": "JtGHQPcwg5Vf",
        "outputId": "5bf5d2a5-e059-4985-b8d0-4afc8c0fed7e",
        "colab": {
          "base_uri": "https://localhost:8080/"
        }
      },
      "execution_count": 109,
      "outputs": [
        {
          "output_type": "stream",
          "name": "stdout",
          "text": [
            "//mumax 3.10 [linux_amd64 go1.14(gc) CUDA-10.1]\n",
            "//GPU info: Tesla T4(15095MB), CUDA Driver 12.4, cc=7.5, using cc=75 PTX\n",
            "//(c) Arne Vansteenkiste, Dynamat LAB, Ghent University, Belgium\n",
            "//This is free software without any warranty. See license.txt\n",
            "//********************************************************************//\n",
            "//  If you use mumax in any work or publication,                      //\n",
            "//  we kindly ask you to cite the references in references.bib        //\n",
            "//********************************************************************//\n",
            "//output directory: read.out/\n",
            "/home/jmulkers/GO/src/github.com/mumax/3/cmd/mumax3/main.go:110 script line 28: dx := float64(x - Nx/2) * CellSizeX: undefined: float64\n"
          ]
        }
      ]
    }
  ]
}