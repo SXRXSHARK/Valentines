{
  "nbformat": 4,
  "nbformat_minor": 0,
  "metadata": {
    "colab": {
      "name": "mumax3.ipynb",
      "provenance": [],
      "include_colab_link": true
    },
    "kernelspec": {
      "name": "python3",
      "display_name": "Python 3"
    },
    "accelerator": "GPU"
  },
  "cells": [
    {
      "cell_type": "markdown",
      "metadata": {
        "id": "view-in-github",
        "colab_type": "text"
      },
      "source": [
        "<a href=\"https://colab.research.google.com/github/SXRXSHARK/Valentines/blob/main/mumax3.ipynb\" target=\"_parent\"><img src=\"https://colab.research.google.com/assets/colab-badge.svg\" alt=\"Open In Colab\"/></a>"
      ]
    },
    {
      "cell_type": "markdown",
      "metadata": {
        "id": "YKnOM0Rd_WpW"
      },
      "source": [
        "# **Mumax3 in google colaboratory**"
      ]
    },
    {
      "cell_type": "markdown",
      "metadata": {
        "id": "7z-jkukmWz2a"
      },
      "source": [
        "# About Google colaboratory"
      ]
    },
    {
      "cell_type": "markdown",
      "metadata": {
        "id": "y2SER9qhXpjG"
      },
      "source": [
        "Google colaboratory is a research tool mainly used by researchers in the field of machine learning. The main purpose of this tool is to run python code in jupyter notebooks. These notebooks run on a virtual linux machine private to your gmail account. This means that you will need a gmail account to execute programs in a google colaboratory session. If you have a gmail account you should be able to copy this jupyter notebook to your google drive and execute the code cells.\n",
        "\n",
        "To run mumax3 simulations, you do not need to write any python code. So you might wonder how we can use this jupyter notebook environment to run mumax3 simulations. The trick here is that you can execute shell commands by typing an exclamation mark followed by the command, as shown in the code cell below. If you run this code cell, the shell will print out the operating system of the virtual machine. Having the ability to run shell commands suffices to install and run mumax3 simulations, as demonstrated in the sections below."
      ]
    },
    {
      "cell_type": "code",
      "metadata": {
        "id": "W-P7fobTQgRT"
      },
      "source": [
        "! echo \"This machine runs\" $(uname)"
      ],
      "execution_count": null,
      "outputs": []
    },
    {
      "cell_type": "markdown",
      "metadata": {
        "id": "sx20qbQJGQNI"
      },
      "source": [
        "# Installing mumax3"
      ]
    },
    {
      "cell_type": "markdown",
      "metadata": {
        "id": "mxByDMk_XUvM"
      },
      "source": [
        "To install mumax3.10 on this virtual machine, you can run the cell below. This might take a few minutes. When the installation is done, you can collapse this section to get a clean workspace."
      ]
    },
    {
      "cell_type": "code",
      "metadata": {
        "id": "DcUZU5vv_TIf",
        "colab": {
          "base_uri": "https://localhost:8080/"
        },
        "outputId": "5e5744d1-ccb3-4d53-e690-431b94a0f714"
      },
      "source": [
        "# Download the mumax3 binary\n",
        "!wget https://mumax.ugent.be/mumax3-binaries/mumax3.10_linux_cuda10.1.tar.gz\n",
        "!tar -xvf mumax3.10_linux_cuda10.1.tar.gz\n",
        "!rm mumax3.10_linux_cuda10.1.tar.gz\n",
        "!rm -rf mumax3.10 && mv mumax3.10_linux_cuda10.1 mumax3.10\n",
        "\n",
        "#update the PATH environment variable\n",
        "import os\n",
        "os.environ['PATH'] += \":/content/mumax3.10\"\n",
        "\n",
        "# Download an examplary script\n",
        "!wget https://raw.githubusercontent.com/JeroenMulkers/mumax3-tutorial/master/standardproblem4.mx3 -O standardproblem4.mx3\n"
      ],
      "execution_count": 28,
      "outputs": [
        {
          "output_type": "stream",
          "name": "stdout",
          "text": [
            "--2025-07-29 16:40:50--  https://mumax.ugent.be/mumax3-binaries/mumax3.10_linux_cuda10.1.tar.gz\n",
            "Resolving mumax.ugent.be (mumax.ugent.be)... 157.193.40.77\n",
            "Connecting to mumax.ugent.be (mumax.ugent.be)|157.193.40.77|:443... connected.\n",
            "HTTP request sent, awaiting response... 200 OK\n",
            "Length: 150707207 (144M) [application/x-gzip]\n",
            "Saving to: ‘mumax3.10_linux_cuda10.1.tar.gz’\n",
            "\n",
            "mumax3.10_linux_cud 100%[===================>] 143.73M  21.6MB/s    in 7.7s    \n",
            "\n",
            "2025-07-29 16:40:58 (18.6 MB/s) - ‘mumax3.10_linux_cuda10.1.tar.gz’ saved [150707207/150707207]\n",
            "\n",
            "mumax3.10_linux_cuda10.1/\n",
            "mumax3.10_linux_cuda10.1/mumax3-server\n",
            "mumax3.10_linux_cuda10.1/lib/\n",
            "mumax3.10_linux_cuda10.1/lib/libcurand.so.10\n",
            "mumax3.10_linux_cuda10.1/lib/libcufft.so.10\n",
            "mumax3.10_linux_cuda10.1/mumax3\n",
            "mumax3.10_linux_cuda10.1/LICENSE\n",
            "mumax3.10_linux_cuda10.1/mumax3-convert\n",
            "--2025-07-29 16:41:01--  https://raw.githubusercontent.com/JeroenMulkers/mumax3-tutorial/master/standardproblem4.mx3\n",
            "Resolving raw.githubusercontent.com (raw.githubusercontent.com)... 185.199.111.133, 185.199.110.133, 185.199.109.133, ...\n",
            "Connecting to raw.githubusercontent.com (raw.githubusercontent.com)|185.199.111.133|:443... connected.\n",
            "HTTP request sent, awaiting response... 200 OK\n",
            "Length: 258 [text/plain]\n",
            "Saving to: ‘standardproblem4.mx3’\n",
            "\n",
            "standardproblem4.mx 100%[===================>]     258  --.-KB/s    in 0s      \n",
            "\n",
            "2025-07-29 16:41:01 (7.73 MB/s) - ‘standardproblem4.mx3’ saved [258/258]\n",
            "\n"
          ]
        }
      ]
    },
    {
      "cell_type": "markdown",
      "metadata": {
        "id": "sQhUZQFMBKYY"
      },
      "source": [
        "# Running a mumax3 script"
      ]
    },
    {
      "cell_type": "markdown",
      "metadata": {
        "id": "z4DdTSKVXzmP"
      },
      "source": [
        "You can open the filebrowser for this virtual machine on the left side of this page. Here you should see a mumax3 script named standardproblem4.mx3. You should be able to open this file with a double click. To execute the script run the code cell below."
      ]
    },
    {
      "cell_type": "code",
      "metadata": {
        "id": "9g4lmjd7BXGV",
        "colab": {
          "base_uri": "https://localhost:8080/"
        },
        "outputId": "c331ef9a-eb72-408e-aae7-01dcfdc2b62c"
      },
      "source": [
        "!mumax3 standardproblem4.mx3"
      ],
      "execution_count": null,
      "outputs": [
        {
          "output_type": "stream",
          "name": "stdout",
          "text": [
            "//mumax 3.10 [linux_amd64 go1.14(gc) CUDA-10.1]\n",
            "//GPU info: Tesla T4(15095MB), CUDA Driver 12.4, cc=7.5, using cc=75 PTX\n",
            "//(c) Arne Vansteenkiste, Dynamat LAB, Ghent University, Belgium\n",
            "//This is free software without any warranty. See license.txt\n",
            "//********************************************************************//\n",
            "//  If you use mumax in any work or publication,                      //\n",
            "//  we kindly ask you to cite the references in references.bib        //\n",
            "//********************************************************************//\n",
            "//output directory: standardproblem4.out/\n",
            "//starting GUI at http://127.0.0.1:35367\n",
            "InputA := 1\n",
            "InputB := 0\n",
            "VCMA := 1\n",
            "SetGridsize(128, 32, 1)\n",
            "SetCellsize(2e-9, 2e-9, 1e-9)\n",
            "Msat = 580e3\n",
            "Aex = 15e-12\n",
            "alpha = 0.3\n",
            "Ku1 = 0.8e6\n",
            "anisU = vector(0, 0, 1)\n",
            "Dind = 3e-3\n",
            "m = uniform(0, 0, 1)\n",
            "defRegion(1, rect(16e-9, 16e-9).Transl(28e-9, 32e-9, 0))\n",
            "defRegion(2, rect(16e-9, 16e-9).Transl(28e-9, 52e-9, 0))\n",
            "defRegion(3, rect(8e-9, 64e-9).Transl(132e-9, 32e-9, 0))\n",
            "defRegion(4, rect(32e-9, 32e-9).Transl(208e-9, 16e-9, 0))\n",
            "Run(1e-12)\n",
            "//Using cached kernel: /tmp/mumax3kernel_[128 32 1]_[0 0 0]_[2e-09 2e-09 1e-09]_6_\n",
            "if InputA == 1 {\n",
            "\tm.setRegion(1, uniform(0, 0, -1))\n",
            "\tRun(0.1e-9)\n",
            "\tm.setRegion(1, uniform(0, 0, 1))\n",
            "}\n",
            "if InputB == 1 {\n",
            "\tm.setRegion(2, uniform(0, 0, -1))\n",
            "\tRun(0.1e-9)\n",
            "\tm.setRegion(2, uniform(0, 0, 1))\n",
            "}\n",
            "Run(1e-9)\n",
            "if VCMA == 1 {\n",
            "\tKu1.setRegion(3, 1.6e6)\n",
            "} else {\n",
            "\tKu1.setRegion(3, 0.8e6)\n",
            "}\n",
            "Pol = 0.4\n",
            "xi = 0.2\n",
            "j = vector(-1e12, 0, 0)\n",
            "J = vector(2e11, 0, 0)\n",
            "FixDt = 1e-14\n",
            "SetSolver(5)\n",
            "autoSave(m, 1e-10)\n",
            "Run(1e-9)\n"
          ]
        }
      ]
    },
    {
      "cell_type": "markdown",
      "metadata": {
        "id": "_l3NeuoFaYuk"
      },
      "source": [
        "If you ran the cell above, then there should be a directory named standardproblem4.out (you might need to click on the refresh button in the filebrowser). This directory contains the output files of the simulation. mumax3-convert can now be used to convert the ovf files to images, as demonstrated in the cell below."
      ]
    },
    {
      "cell_type": "code",
      "metadata": {
        "id": "pmuXIuVRbHaY",
        "colab": {
          "base_uri": "https://localhost:8080/"
        },
        "outputId": "d4676da2-dbb6-4dad-977e-cfad0d8647d8"
      },
      "source": [
        "!mumax3-convert -png standardproblem4.out/*.ovf"
      ],
      "execution_count": 105,
      "outputs": [
        {
          "output_type": "stream",
          "name": "stdout",
          "text": [
            "standardproblem4.out/m000000.ovf\n",
            "standardproblem4.out/m000001.ovf\n",
            "standardproblem4.out/m000002.ovf\n",
            "standardproblem4.out/m000003.ovf\n",
            "standardproblem4.out/m000004.ovf\n",
            "standardproblem4.out/m000005.ovf\n",
            "standardproblem4.out/m000006.ovf\n",
            "standardproblem4.out/m000007.ovf\n",
            "standardproblem4.out/m000008.ovf\n",
            "standardproblem4.out/m000009.ovf\n",
            "standardproblem4.out/m000010.ovf\n",
            "standardproblem4.out/m000011.ovf\n",
            "standardproblem4.out/m000012.ovf\n",
            "standardproblem4.out/m000013.ovf\n",
            "standardproblem4.out/m000014.ovf\n",
            "standardproblem4.out/m000015.ovf\n",
            "standardproblem4.out/m000016.ovf\n",
            "standardproblem4.out/m000017.ovf\n",
            "standardproblem4.out/m000018.ovf\n",
            "standardproblem4.out/m000019.ovf\n",
            "standardproblem4.out/m000020.ovf\n",
            "standardproblem4.out/m000021.ovf\n",
            "standardproblem4.out/m000022.ovf\n",
            "standardproblem4.out/m000023.ovf\n",
            "standardproblem4.out/m000024.ovf\n",
            "standardproblem4.out/m000025.ovf\n",
            "standardproblem4.out/m000026.ovf\n",
            "standardproblem4.out/m000027.ovf\n",
            "standardproblem4.out/m000028.ovf\n",
            "standardproblem4.out/m000029.ovf\n",
            "standardproblem4.out/m000030.ovf\n",
            "standardproblem4.out/m000031.ovf\n",
            "standardproblem4.out/m000032.ovf\n",
            "standardproblem4.out/m000033.ovf\n",
            "standardproblem4.out/m000034.ovf\n",
            "standardproblem4.out/m000035.ovf\n",
            "standardproblem4.out/m000036.ovf\n",
            "standardproblem4.out/m000037.ovf\n",
            "standardproblem4.out/m000038.ovf\n",
            "standardproblem4.out/m000039.ovf\n",
            "standardproblem4.out/m000040.ovf\n",
            "standardproblem4.out/m000041.ovf\n",
            "standardproblem4.out/m000042.ovf\n",
            "standardproblem4.out/m000043.ovf\n",
            "standardproblem4.out/m000044.ovf\n",
            "standardproblem4.out/m000045.ovf\n",
            "[ ok ] standardproblem4.out/m000001.ovf\t-> standardproblem4.out/m000001.png\n",
            "[ ok ] standardproblem4.out/m000002.ovf\t-> standardproblem4.out/m000002.png\n",
            "[ ok ] standardproblem4.out/m000000.ovf\t-> standardproblem4.out/m000000.png\n",
            "[ ok ] standardproblem4.out/m000003.ovf\t-> standardproblem4.out/m000003.png\n",
            "[ ok ] standardproblem4.out/m000005.ovf\t-> standardproblem4.out/m000005.png\n",
            "[ ok ] standardproblem4.out/m000007.ovf\t-> standardproblem4.out/m000007.png\n",
            "[ ok ] standardproblem4.out/m000006.ovf\t-> standardproblem4.out/m000006.png\n",
            "[ ok ] standardproblem4.out/m000004.ovf\t-> standardproblem4.out/m000004.png\n",
            "[ ok ] standardproblem4.out/m000008.ovf\t-> standardproblem4.out/m000008.png\n",
            "[skip] standardproblem4.out/m000011.ovf\t-> standardproblem4.out/m000011.png: skipped based on time stamps\n",
            "[skip] standardproblem4.out/m000012.ovf\t-> standardproblem4.out/m000012.png: skipped based on time stamps\n",
            "[skip] standardproblem4.out/m000013.ovf\t-> standardproblem4.out/m000013.png: skipped based on time stamps\n",
            "[skip] standardproblem4.out/m000014.ovf\t-> standardproblem4.out/m000014.png: skipped based on time stamps\n",
            "[skip] standardproblem4.out/m000015.ovf\t-> standardproblem4.out/m000015.png: skipped based on time stamps\n",
            "[skip] standardproblem4.out/m000016.ovf\t-> standardproblem4.out/m000016.png: skipped based on time stamps\n",
            "[skip] standardproblem4.out/m000017.ovf\t-> standardproblem4.out/m000017.png: skipped based on time stamps\n",
            "[skip] standardproblem4.out/m000018.ovf\t-> standardproblem4.out/m000018.png: skipped based on time stamps\n",
            "[skip] standardproblem4.out/m000019.ovf\t-> standardproblem4.out/m000019.png: skipped based on time stamps\n",
            "[skip] standardproblem4.out/m000020.ovf\t-> standardproblem4.out/m000020.png: skipped based on time stamps\n",
            "[skip] standardproblem4.out/m000021.ovf\t-> standardproblem4.out/m000021.png: skipped based on time stamps\n",
            "[skip] standardproblem4.out/m000022.ovf\t-> standardproblem4.out/m000022.png: skipped based on time stamps\n",
            "[skip] standardproblem4.out/m000023.ovf\t-> standardproblem4.out/m000023.png: skipped based on time stamps\n",
            "[skip] standardproblem4.out/m000024.ovf\t-> standardproblem4.out/m000024.png: skipped based on time stamps\n",
            "[skip] standardproblem4.out/m000025.ovf\t-> standardproblem4.out/m000025.png: skipped based on time stamps\n",
            "[skip] standardproblem4.out/m000026.ovf\t-> standardproblem4.out/m000026.png: skipped based on time stamps\n",
            "[skip] standardproblem4.out/m000027.ovf\t-> standardproblem4.out/m000027.png: skipped based on time stamps\n",
            "[skip] standardproblem4.out/m000028.ovf\t-> standardproblem4.out/m000028.png: skipped based on time stamps\n",
            "[skip] standardproblem4.out/m000029.ovf\t-> standardproblem4.out/m000029.png: skipped based on time stamps\n",
            "[skip] standardproblem4.out/m000030.ovf\t-> standardproblem4.out/m000030.png: skipped based on time stamps\n",
            "[skip] standardproblem4.out/m000031.ovf\t-> standardproblem4.out/m000031.png: skipped based on time stamps\n",
            "[skip] standardproblem4.out/m000032.ovf\t-> standardproblem4.out/m000032.png: skipped based on time stamps\n",
            "[skip] standardproblem4.out/m000033.ovf\t-> standardproblem4.out/m000033.png: skipped based on time stamps\n",
            "[skip] standardproblem4.out/m000034.ovf\t-> standardproblem4.out/m000034.png: skipped based on time stamps\n",
            "[skip] standardproblem4.out/m000035.ovf\t-> standardproblem4.out/m000035.png: skipped based on time stamps\n",
            "[skip] standardproblem4.out/m000036.ovf\t-> standardproblem4.out/m000036.png: skipped based on time stamps\n",
            "[skip] standardproblem4.out/m000037.ovf\t-> standardproblem4.out/m000037.png: skipped based on time stamps\n",
            "[skip] standardproblem4.out/m000038.ovf\t-> standardproblem4.out/m000038.png: skipped based on time stamps\n",
            "[skip] standardproblem4.out/m000039.ovf\t-> standardproblem4.out/m000039.png: skipped based on time stamps\n",
            "[skip] standardproblem4.out/m000040.ovf\t-> standardproblem4.out/m000040.png: skipped based on time stamps\n",
            "[skip] standardproblem4.out/m000041.ovf\t-> standardproblem4.out/m000041.png: skipped based on time stamps\n",
            "[skip] standardproblem4.out/m000042.ovf\t-> standardproblem4.out/m000042.png: skipped based on time stamps\n",
            "[skip] standardproblem4.out/m000043.ovf\t-> standardproblem4.out/m000043.png: skipped based on time stamps\n",
            "[skip] standardproblem4.out/m000044.ovf\t-> standardproblem4.out/m000044.png: skipped based on time stamps\n",
            "[skip] standardproblem4.out/m000045.ovf\t-> standardproblem4.out/m000045.png: skipped based on time stamps\n",
            "[ ok ] standardproblem4.out/m000009.ovf\t-> standardproblem4.out/m000009.png\n",
            "[ ok ] standardproblem4.out/m000010.ovf\t-> standardproblem4.out/m000010.png\n",
            "11 files converted,  35 skipped,  0 failed\n"
          ]
        }
      ]
    },
    {
      "cell_type": "code",
      "source": [
        "RESULT_DIR = \"standardproblem4.out\"\n",
        "path = os.path.join(RESULT_DIR, \"table.txt\")\n",
        "if os.path.isfile(path):\n",
        "    with open(path) as f:\n",
        "        lines = f.readlines()\n",
        "    print(lines[0])  # headers\n",
        "    print(lines[-1]) # last line data\n",
        "else:\n",
        "    print(\"table.txt missing\")\n"
      ],
      "metadata": {
        "id": "AaEVbnTJFj7K",
        "outputId": "5d637e45-b010-4ef6-a4e9-b8f275dc8e5f",
        "colab": {
          "base_uri": "https://localhost:8080/"
        }
      },
      "execution_count": 106,
      "outputs": [
        {
          "output_type": "stream",
          "name": "stdout",
          "text": [
            "# t (s)\tmx ()\tmy ()\tmz ()\tInputA (bit)\tInputB (bit)\tVCMA (bit)\tavgMz (unit)\n",
            "\n",
            "2.1010000000036496e-09\t-1.3255107e-05\t-6.0198814e-05\t0.9884093\t1\t0\t1\tNaN\n",
            "\n"
          ]
        }
      ]
    },
    {
      "cell_type": "markdown",
      "metadata": {
        "id": "BtIafNN4bs5e"
      },
      "source": [
        "Now it's up to you. Right click on the filebrowser to add a new file. Open the file and write your first mumax3 script. Run this script as demonstrated above."
      ]
    }
  ]
}